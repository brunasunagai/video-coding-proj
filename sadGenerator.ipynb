{
 "cells": [
  {
   "cell_type": "markdown",
   "metadata": {},
   "source": [
    "# Notebook to generate VHDL for SAD"
   ]
  },
  {
   "cell_type": "code",
   "execution_count": 22,
   "metadata": {},
   "outputs": [],
   "source": [
    "import numpy as np \n",
    "import math"
   ]
  },
  {
   "cell_type": "code",
   "execution_count": 74,
   "metadata": {},
   "outputs": [],
   "source": [
    "################################################\n",
    "################## Parametros ##################\n",
    "block_size = 4\n",
    "bit_width = 8\n",
    "file_name = ('sad_' + str(int(math.sqrt(block_size))) + 'x' + str(int(math.sqrt(block_size))))\n",
    "\n",
    "adder_name = 'adder'\n",
    "\n",
    "pack_name = 'type_pack'\n",
    "rewrite_package = True\n",
    "################################################"
   ]
  },
  {
   "cell_type": "code",
   "execution_count": 37,
   "metadata": {},
   "outputs": [],
   "source": [
    "# Criando package de tipo\n",
    "pack = ('''library ieee;\n",
    "use ieee.std_logic_1164.all;\n",
    "use ieee.std_logic_unsigned.all;\n",
    "use ieee.numeric_std.all;\n",
    "\n",
    "package ''' + pack_name + ''' is\n",
    "    \n",
    "    constant bit_width: natural := ''' + str(bit_width) + '''; \n",
    "    type input_line is array (0 to ''' + str(block_size-1) + \") of std_logic_vector(\" + str(bit_width-1) + ''' downto 0);\n",
    "\n",
    "end ''' + pack_name + ';'\n",
    ")\n",
    "\n",
    "if rewrite_package:\n",
    "    pack_file = open((pack_name + \".vhd\"), \"w\")\n",
    "    pack_file.write(pack)\n",
    "    pack_file.close()"
   ]
  },
  {
   "cell_type": "code",
   "execution_count": 75,
   "metadata": {},
   "outputs": [
    {
     "name": "stdout",
     "output_type": "stream",
     "text": [
      "signal sub_0: std_logic_vector(8 downto 0);\n",
      "signal sub_1: std_logic_vector(8 downto 0);\n",
      "\n",
      "signal abs_0: std_logic_vector(7 downto 0);\n",
      "signal abs_1: std_logic_vector(7 downto 0);\n",
      "\n",
      "signal sum_01: std_logic_vector(8 downto 0);\n",
      "\n",
      "\n"
     ]
    }
   ],
   "source": [
    "# Port \n",
    "port = ('''pixels_O: in input_line;\n",
    "    pixels_R: in input_line;\n",
    "    sad_out: out std_logic_vector(''' + str(math.ceil(np.log2(block_size))+bit_width-1) + ''' downto 0)''')\n",
    "\n",
    "# Components ------------------------------------------------------------- TERMINAR!\n",
    "# adder_file = open(adder_name + '.vhd')\n",
    "\n",
    "# Signals\n",
    "sub = []\n",
    "for i in range(0,int(math.sqrt(block_size))):\n",
    "    sub.append('signal sub_' + str(i) + ': std_logic_vector(' + str(bit_width) + ' downto 0);')\n",
    "sub.append('\\n')\n",
    "sub_concat = '\\n'.join(sub)\n",
    "\n",
    "abs = []\n",
    "for i in range(0,int(math.sqrt(block_size))):\n",
    "    abs.append('signal abs_' + str(i) + ': std_logic_vector(' + str(bit_width-1) + ' downto 0);')\n",
    "abs.append('\\n')\n",
    "abs_concat = '\\n'.join(abs)\n",
    "\n",
    "sum0 = []\n",
    "for i in range(0,int(math.sqrt(block_size)),2):\n",
    "    sum0.append('signal sum_' + str(i) + str(i+1) + ': std_logic_vector(' + str(bit_width) + ' downto 0);')\n",
    "sum0.append('\\n')\n",
    "sum0_concat = '\\n'.join(sum0)\n",
    "\n",
    "signals = []\n",
    "if block_size == 4:\n",
    "    signals.append(sub_concat + abs_concat + sum0_concat)\n",
    "    signals_concat = ''.join(signals)\n",
    "elif block_size < 16:\n",
    "    print(block_size)\n",
    "    sum1 = []\n",
    "    for i in range(0,4):\n",
    "        sum1.append('signal sum_' + str(i) + str(i+1) + ': std_logic_vector(' + str(bit_width) + ' downto 0);')\n",
    "    sum0.append('\\n')   \n",
    "    sum0_concat = '\\n'.join(sum0)\n",
    "\n",
    "# elif block_size == 64:\n",
    "#     print(block_size + 'done')\n",
    "# elif block_size == 128:\n",
    "#     print(block_size + 'done')\n",
    "\n",
    "print(signals_concat)\n"
   ]
  },
  {
   "cell_type": "markdown",
   "metadata": {},
   "source": [
    "signal sub_0: std_logic_vector(bit_width downto 0);         \\\n",
    "signal sub_1: std_logic_vector(bit_width downto 0);         \\\n",
    "signal sub_2: std_logic_vector(bit_width downto 0);         \\\n",
    "signal sub_3: std_logic_vector(bit_width downto 0);         \n",
    "\n",
    "signal abs_0: std_logic_vector(bit_width-1 downto 0);       \\\n",
    "signal abs_1: std_logic_vector(bit_width-1 downto 0);       \\\n",
    "signal abs_2: std_logic_vector(bit_width-1 downto 0);       \\\n",
    "signal abs_3: std_logic_vector(bit_width-1 downto 0);       \n",
    "\n",
    "signal sum_01: std_logic_vector(bit_width downto 0);        \\\n",
    "signal sum_23: std_logic_vector(bit_width downto 0);        \n",
    "\n",
    "signal sum_0123: std_logic_vector(bit_width+1 downto 0);"
   ]
  },
  {
   "cell_type": "code",
   "execution_count": 48,
   "metadata": {},
   "outputs": [
    {
     "name": "stdout",
     "output_type": "stream",
     "text": [
      "library ieee;\n",
      "use ieee.std_logic_1164.all;\n",
      "use ieee.std_logic_unsigned.all;\n",
      "use ieee.numeric_std.all;\n",
      "use work.type_pack.all;\n",
      "\n",
      "entity sad_4x4 is \n",
      "port(\n",
      "    pixels_O: in input_line;\n",
      "    pixels_R: in input_line;\n",
      "    sad_out: out std_logic_vector(11 downto 0)\n",
      ");\n",
      "end sad_4x4\n",
      "\n",
      "architecture arch_sad of sad_4x4 is \n",
      "\n",
      "-- Components \n",
      "component adder is \n",
      "generic (N: integer);\n",
      "port(\n",
      "\tA, B: in std_logic_vector(N-1 downto 0);\n",
      "\tS: out std_logic_vector(N downto 0)\n",
      ");\n",
      "end component;\n",
      "\n",
      "-- Signals\n",
      "\n",
      "\n",
      "\n"
     ]
    }
   ],
   "source": [
    "# Texto do VHDL\n",
    "vhdl = ('''library ieee;\n",
    "use ieee.std_logic_1164.all;\n",
    "use ieee.std_logic_unsigned.all;\n",
    "use ieee.numeric_std.all;\n",
    "use work.''' + pack_name + '''.all;\n",
    "\n",
    "entity ''' + file_name + ''' is \n",
    "port(\n",
    "    ''' + port + '''\n",
    ");\n",
    "end ''' + file_name + '''\n",
    "\n",
    "architecture arch_sad of ''' + file_name + ''' is \n",
    "\n",
    "-- Components \n",
    "component adder is \n",
    "generic (N: integer);\n",
    "port(\n",
    "\tA, B: in std_logic_vector(N-1 downto 0);\n",
    "\tS: out std_logic_vector(N downto 0)\n",
    ");\n",
    "end component;\n",
    "\n",
    "-- Signals\n",
    "\n",
    "\n",
    "'''\n",
    ")\n",
    "\n",
    "print(vhdl)"
   ]
  },
  {
   "cell_type": "code",
   "execution_count": null,
   "metadata": {},
   "outputs": [],
   "source": []
  }
 ],
 "metadata": {
  "interpreter": {
   "hash": "4c125032701757adfc1644e981300455e6a15f528ec9c7130d4823d92730fcba"
  },
  "kernelspec": {
   "display_name": "Python 3.10.0 64-bit",
   "language": "python",
   "name": "python3"
  },
  "language_info": {
   "codemirror_mode": {
    "name": "ipython",
    "version": 3
   },
   "file_extension": ".py",
   "mimetype": "text/x-python",
   "name": "python",
   "nbconvert_exporter": "python",
   "pygments_lexer": "ipython3",
   "version": "3.10.0"
  },
  "orig_nbformat": 4
 },
 "nbformat": 4,
 "nbformat_minor": 2
}
